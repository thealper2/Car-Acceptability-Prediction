{
 "cells": [
  {
   "cell_type": "code",
   "execution_count": 69,
   "id": "aba11d27",
   "metadata": {},
   "outputs": [],
   "source": [
    "import numpy as np\n",
    "import pandas as pd\n",
    "import pickle\n",
    "from sklearn.model_selection import train_test_split, GridSearchCV\n",
    "from sklearn.preprocessing import LabelEncoder\n",
    "from sklearn.metrics import accuracy_score, r2_score\n",
    "from sklearn.ensemble import RandomForestClassifier\n",
    "from sklearn.linear_model import LogisticRegression\n",
    "from sklearn.tree import DecisionTreeClassifier\n",
    "from sklearn.neighbors import KNeighborsClassifier\n",
    "from sklearn.svm import SVC\n",
    "\n",
    "%matplotlib inline"
   ]
  },
  {
   "cell_type": "code",
   "execution_count": null,
   "id": "9c3fc6de",
   "metadata": {},
   "outputs": [],
   "source": [
    "df = pd.read_csv(\"car_evaluation.csv\", names=[\"buying\", \"maint\", \"doors\", \"persons\", \"lug_boot\", \"safety\", \"class\"])"
   ]
  },
  {
   "cell_type": "code",
   "execution_count": 4,
   "id": "8c84c174",
   "metadata": {},
   "outputs": [
    {
     "data": {
      "text/plain": [
       "(1728, 7)"
      ]
     },
     "execution_count": 4,
     "metadata": {},
     "output_type": "execute_result"
    }
   ],
   "source": [
    "df.shape"
   ]
  },
  {
   "cell_type": "code",
   "execution_count": 11,
   "id": "b23726c3",
   "metadata": {},
   "outputs": [
    {
     "data": {
      "text/plain": [
       "unacc    1210\n",
       "acc       384\n",
       "good       69\n",
       "vgood      65\n",
       "Name: class, dtype: int64"
      ]
     },
     "execution_count": 11,
     "metadata": {},
     "output_type": "execute_result"
    }
   ],
   "source": [
    "df[\"class\"].value_counts()"
   ]
  },
  {
   "cell_type": "markdown",
   "id": "b19d2380",
   "metadata": {},
   "source": [
    "# Preprocess"
   ]
  },
  {
   "cell_type": "code",
   "execution_count": 26,
   "id": "ff3e240f",
   "metadata": {},
   "outputs": [],
   "source": [
    "le = LabelEncoder().fit(df[\"buying\"])\n",
    "le_nm_1 = dict(zip(le.classes_, le.transform(le.classes_)))\n",
    "df[\"buying\"] = df[\"buying\"].apply(lambda x: le_nm_1[x])"
   ]
  },
  {
   "cell_type": "code",
   "execution_count": 27,
   "id": "d68a15c4",
   "metadata": {},
   "outputs": [
    {
     "data": {
      "text/plain": [
       "{'high': 0, 'low': 1, 'med': 2, 'vhigh': 3}"
      ]
     },
     "execution_count": 27,
     "metadata": {},
     "output_type": "execute_result"
    }
   ],
   "source": [
    "le_nm_1"
   ]
  },
  {
   "cell_type": "code",
   "execution_count": 29,
   "id": "5c619dab",
   "metadata": {},
   "outputs": [],
   "source": [
    "le = LabelEncoder().fit(df[\"maint\"])\n",
    "le_nm_2 = dict(zip(le.classes_, le.transform(le.classes_)))\n",
    "df[\"maint\"] = df[\"maint\"].apply(lambda x: le_nm_2[x])"
   ]
  },
  {
   "cell_type": "code",
   "execution_count": 30,
   "id": "79493167",
   "metadata": {},
   "outputs": [
    {
     "data": {
      "text/plain": [
       "{'high': 0, 'low': 1, 'med': 2, 'vhigh': 3}"
      ]
     },
     "execution_count": 30,
     "metadata": {},
     "output_type": "execute_result"
    }
   ],
   "source": [
    "le_nm_2"
   ]
  },
  {
   "cell_type": "code",
   "execution_count": 32,
   "id": "d047b8bd",
   "metadata": {},
   "outputs": [],
   "source": [
    "le = LabelEncoder().fit(df[\"lug_boot\"])\n",
    "le_nm_3 = dict(zip(le.classes_, le.transform(le.classes_)))\n",
    "df[\"lug_boot\"] = df[\"lug_boot\"].apply(lambda x: le_nm_3[x])"
   ]
  },
  {
   "cell_type": "code",
   "execution_count": 81,
   "id": "2aa50be3",
   "metadata": {},
   "outputs": [
    {
     "data": {
      "text/plain": [
       "{'big': 0, 'med': 1, 'small': 2}"
      ]
     },
     "execution_count": 81,
     "metadata": {},
     "output_type": "execute_result"
    }
   ],
   "source": [
    "le_nm_3"
   ]
  },
  {
   "cell_type": "code",
   "execution_count": 33,
   "id": "510b9fab",
   "metadata": {},
   "outputs": [],
   "source": [
    "le = LabelEncoder().fit(df[\"safety\"])\n",
    "le_nm_4 = dict(zip(le.classes_, le.transform(le.classes_)))\n",
    "df[\"safety\"] = df[\"safety\"].apply(lambda x: le_nm_4[x])"
   ]
  },
  {
   "cell_type": "code",
   "execution_count": 34,
   "id": "9590b8ba",
   "metadata": {},
   "outputs": [
    {
     "data": {
      "text/plain": [
       "{'high': 0, 'low': 1, 'med': 2}"
      ]
     },
     "execution_count": 34,
     "metadata": {},
     "output_type": "execute_result"
    }
   ],
   "source": [
    "le_nm_4"
   ]
  },
  {
   "cell_type": "code",
   "execution_count": 35,
   "id": "6b8e1717",
   "metadata": {},
   "outputs": [],
   "source": [
    "le = LabelEncoder().fit(df[\"class\"])\n",
    "le_nm_5 = dict(zip(le.classes_, le.transform(le.classes_)))\n",
    "df[\"class\"] = df[\"class\"].apply(lambda x: le_nm_5[x])"
   ]
  },
  {
   "cell_type": "code",
   "execution_count": 36,
   "id": "75c9c42a",
   "metadata": {},
   "outputs": [
    {
     "data": {
      "text/plain": [
       "{'acc': 0, 'good': 1, 'unacc': 2, 'vgood': 3}"
      ]
     },
     "execution_count": 36,
     "metadata": {},
     "output_type": "execute_result"
    }
   ],
   "source": [
    "le_nm_5"
   ]
  },
  {
   "cell_type": "code",
   "execution_count": 44,
   "id": "d9594c23",
   "metadata": {},
   "outputs": [],
   "source": [
    "le = LabelEncoder().fit(df[\"doors\"])\n",
    "le_nm_6 = dict(zip(le.classes_, le.transform(le.classes_)))\n",
    "df[\"doors\"] = df[\"doors\"].apply(lambda x: le_nm_6[x])"
   ]
  },
  {
   "cell_type": "code",
   "execution_count": 45,
   "id": "9c8db431",
   "metadata": {},
   "outputs": [
    {
     "data": {
      "text/plain": [
       "{'2': 0, '3': 1, '4': 2, '5more': 3}"
      ]
     },
     "execution_count": 45,
     "metadata": {},
     "output_type": "execute_result"
    }
   ],
   "source": [
    "le_nm_6"
   ]
  },
  {
   "cell_type": "code",
   "execution_count": 46,
   "id": "b6062472",
   "metadata": {},
   "outputs": [],
   "source": [
    "le = LabelEncoder().fit(df[\"persons\"])\n",
    "le_nm_7 = dict(zip(le.classes_, le.transform(le.classes_)))\n",
    "df[\"persons\"] = df[\"persons\"].apply(lambda x: le_nm_7[x])"
   ]
  },
  {
   "cell_type": "code",
   "execution_count": 47,
   "id": "1dd449f5",
   "metadata": {},
   "outputs": [
    {
     "data": {
      "text/plain": [
       "{'2': 0, '4': 1, 'more': 2}"
      ]
     },
     "execution_count": 47,
     "metadata": {},
     "output_type": "execute_result"
    }
   ],
   "source": [
    "le_nm_7"
   ]
  },
  {
   "cell_type": "code",
   "execution_count": 48,
   "id": "200a3250",
   "metadata": {},
   "outputs": [],
   "source": [
    "X = df.drop([\"class\"], axis=1)\n",
    "y = df[\"class\"]"
   ]
  },
  {
   "cell_type": "code",
   "execution_count": 49,
   "id": "4d2fc389",
   "metadata": {},
   "outputs": [],
   "source": [
    "X_train, X_test, y_train, y_test = train_test_split(X, y, test_size=0.2, random_state=4242)"
   ]
  },
  {
   "cell_type": "markdown",
   "id": "da0c459f",
   "metadata": {},
   "source": [
    "# Random Forest"
   ]
  },
  {
   "cell_type": "code",
   "execution_count": 50,
   "id": "c88f76c9",
   "metadata": {},
   "outputs": [
    {
     "name": "stdout",
     "output_type": "stream",
     "text": [
      "Random Forest:  0.9826589595375722\n"
     ]
    }
   ],
   "source": [
    "rf = RandomForestClassifier()\n",
    "rf.fit(X_train, y_train)\n",
    "y_pred = rf.predict(X_test)\n",
    "print(\"Random Forest: \", accuracy_score(y_test, y_pred))"
   ]
  },
  {
   "cell_type": "code",
   "execution_count": 55,
   "id": "f09ccd74",
   "metadata": {},
   "outputs": [],
   "source": [
    "rf_params = {\n",
    "    \"n_estimators\": [100, 250, 500,],\n",
    "    \"max_depth\": [1, 15, 30],\n",
    "    \"min_samples_split\": [2, 5],\n",
    "    \"min_samples_leaf\": [2, 5],\n",
    "    \"max_features\": [\"sqrt\"],\n",
    "    \"ccp_alpha\": [1, 2, 2.5]\n",
    "}"
   ]
  },
  {
   "cell_type": "code",
   "execution_count": 56,
   "id": "2ce18445",
   "metadata": {},
   "outputs": [
    {
     "data": {
      "text/plain": [
       "{'ccp_alpha': 1,\n",
       " 'max_depth': 1,\n",
       " 'max_features': 'sqrt',\n",
       " 'min_samples_leaf': 2,\n",
       " 'min_samples_split': 2,\n",
       " 'n_estimators': 100}"
      ]
     },
     "execution_count": 56,
     "metadata": {},
     "output_type": "execute_result"
    }
   ],
   "source": [
    "rf = RandomForestClassifier()\n",
    "rf_cv_model = GridSearchCV(rf, rf_params, cv=10, n_jobs=-1).fit(X_train, y_train)\n",
    "rf_cv_model.best_params_"
   ]
  },
  {
   "cell_type": "code",
   "execution_count": 61,
   "id": "7540ef78",
   "metadata": {},
   "outputs": [
    {
     "name": "stdout",
     "output_type": "stream",
     "text": [
      "Random Forest:  0.6878612716763006\n"
     ]
    }
   ],
   "source": [
    "rf_tuned = RandomForestClassifier(ccp_alpha=1, max_depth=1, max_features=\"sqrt\", min_samples_leaf=2, min_samples_split=2, n_estimators=100).fit(X_train, y_train)\n",
    "y_pred = rf_tuned.predict(X_test)\n",
    "print(\"Random Forest: \", accuracy_score(y_test, y_pred))"
   ]
  },
  {
   "cell_type": "markdown",
   "id": "db63cfea",
   "metadata": {},
   "source": [
    "# Decision Tree"
   ]
  },
  {
   "cell_type": "code",
   "execution_count": 63,
   "id": "5dc1ac4b",
   "metadata": {},
   "outputs": [
    {
     "name": "stdout",
     "output_type": "stream",
     "text": [
      "Decision Tree:  0.976878612716763\n"
     ]
    }
   ],
   "source": [
    "dtr = DecisionTreeClassifier()\n",
    "dtr.fit(X_train, y_train)\n",
    "y_pred = dtr.predict(X_test)\n",
    "print(\"Decision Tree: \", accuracy_score(y_test, y_pred))"
   ]
  },
  {
   "cell_type": "code",
   "execution_count": 64,
   "id": "5f2415be",
   "metadata": {},
   "outputs": [],
   "source": [
    "dtr_params = {\n",
    "    \"splitter\": [\"best\", \"random\"],\n",
    "    \"min_samples_split\": [2, 5, 10],\n",
    "    \"min_samples_leaf\": [2, 5, 10],\n",
    "    \"max_features\": [\"sqrt\"],\n",
    "    \"ccp_alpha\": [1, 2, 2.5, 5]\n",
    "}"
   ]
  },
  {
   "cell_type": "code",
   "execution_count": 65,
   "id": "b69f527a",
   "metadata": {},
   "outputs": [
    {
     "data": {
      "text/plain": [
       "{'ccp_alpha': 1,\n",
       " 'max_features': 'sqrt',\n",
       " 'min_samples_leaf': 2,\n",
       " 'min_samples_split': 2,\n",
       " 'splitter': 'best'}"
      ]
     },
     "execution_count": 65,
     "metadata": {},
     "output_type": "execute_result"
    }
   ],
   "source": [
    "dtr = DecisionTreeClassifier()\n",
    "dtr_cv_model = GridSearchCV(dtr, dtr_params, cv=10, n_jobs=-1).fit(X_train, y_train)\n",
    "dtr_cv_model.best_params_"
   ]
  },
  {
   "cell_type": "code",
   "execution_count": 66,
   "id": "1d968f60",
   "metadata": {},
   "outputs": [
    {
     "name": "stdout",
     "output_type": "stream",
     "text": [
      "Decision Tree:  0.6878612716763006\n"
     ]
    }
   ],
   "source": [
    "dtr_tuned = DecisionTreeClassifier(ccp_alpha=1, max_features=\"sqrt\", min_samples_leaf=2, min_samples_split=2, splitter=\"best\").fit(X_train, y_train)\n",
    "y_pred = dtr_tuned.predict(X_test)\n",
    "print(\"Decision Tree: \", accuracy_score(y_test, y_pred))"
   ]
  },
  {
   "cell_type": "markdown",
   "id": "b33096b1",
   "metadata": {},
   "source": [
    "# SVC"
   ]
  },
  {
   "cell_type": "code",
   "execution_count": 70,
   "id": "767a21d7",
   "metadata": {},
   "outputs": [
    {
     "name": "stdout",
     "output_type": "stream",
     "text": [
      "SVC:  0.9277456647398844\n"
     ]
    }
   ],
   "source": [
    "svc = SVC()\n",
    "svc.fit(X_train, y_train)\n",
    "y_pred = svc.predict(X_test)\n",
    "print(\"SVC: \", accuracy_score(y_test, y_pred))"
   ]
  },
  {
   "cell_type": "code",
   "execution_count": 71,
   "id": "82cd65e6",
   "metadata": {},
   "outputs": [],
   "source": [
    "svc_params = {\n",
    "    \"C\": [1,2,3,4,5]\n",
    "}"
   ]
  },
  {
   "cell_type": "code",
   "execution_count": 72,
   "id": "2b48fa24",
   "metadata": {},
   "outputs": [
    {
     "data": {
      "text/plain": [
       "{'C': 5}"
      ]
     },
     "execution_count": 72,
     "metadata": {},
     "output_type": "execute_result"
    }
   ],
   "source": [
    "svc = SVC()\n",
    "svc_cv_model = GridSearchCV(svc, svc_params, cv=10, n_jobs=-1).fit(X_train, y_train)\n",
    "svc_cv_model.best_params_"
   ]
  },
  {
   "cell_type": "code",
   "execution_count": 73,
   "id": "5cb30c93",
   "metadata": {},
   "outputs": [
    {
     "name": "stdout",
     "output_type": "stream",
     "text": [
      "SVC:  0.9826589595375722\n"
     ]
    }
   ],
   "source": [
    "svc_tuned = SVC(C=5).fit(X_train, y_train)\n",
    "y_pred = svc_tuned.predict(X_test)\n",
    "print(\"SVC: \", accuracy_score(y_test, y_pred))"
   ]
  },
  {
   "cell_type": "markdown",
   "id": "abfe6f54",
   "metadata": {},
   "source": [
    "# KNN"
   ]
  },
  {
   "cell_type": "code",
   "execution_count": 74,
   "id": "67ebc345",
   "metadata": {},
   "outputs": [
    {
     "name": "stdout",
     "output_type": "stream",
     "text": [
      "KNN:  0.9161849710982659\n"
     ]
    }
   ],
   "source": [
    "knn = KNeighborsClassifier()\n",
    "knn.fit(X_train, y_train)\n",
    "y_pred = knn.predict(X_test)\n",
    "print(\"KNN: \", accuracy_score(y_test, y_pred))"
   ]
  },
  {
   "cell_type": "code",
   "execution_count": 75,
   "id": "6d60eddc",
   "metadata": {},
   "outputs": [],
   "source": [
    "knn_params = {\n",
    "    \"n_neighbors\": np.arange(1, 100)\n",
    "}"
   ]
  },
  {
   "cell_type": "code",
   "execution_count": 76,
   "id": "41fce2c7",
   "metadata": {},
   "outputs": [
    {
     "data": {
      "text/plain": [
       "{'n_neighbors': 7}"
      ]
     },
     "execution_count": 76,
     "metadata": {},
     "output_type": "execute_result"
    }
   ],
   "source": [
    "knn = KNeighborsClassifier()\n",
    "knn_cv_model = GridSearchCV(knn, knn_params, cv=10, n_jobs=-1).fit(X_train, y_train)\n",
    "knn_cv_model.best_params_"
   ]
  },
  {
   "cell_type": "code",
   "execution_count": 77,
   "id": "7be0eceb",
   "metadata": {},
   "outputs": [
    {
     "name": "stdout",
     "output_type": "stream",
     "text": [
      "KNN:  0.9450867052023122\n"
     ]
    }
   ],
   "source": [
    "knn_tuned = KNeighborsClassifier(n_neighbors=7).fit(X_train, y_train)\n",
    "y_pred = knn_tuned.predict(X_test)\n",
    "print(\"KNN: \", accuracy_score(y_test, y_pred))"
   ]
  },
  {
   "cell_type": "markdown",
   "id": "a0e73793",
   "metadata": {},
   "source": [
    "# Logistic Regression"
   ]
  },
  {
   "cell_type": "code",
   "execution_count": 78,
   "id": "7a878b38",
   "metadata": {},
   "outputs": [
    {
     "name": "stdout",
     "output_type": "stream",
     "text": [
      "Logistic Regression:  0.6878612716763006\n"
     ]
    }
   ],
   "source": [
    "logreg = LogisticRegression()\n",
    "logreg.fit(X_train, y_train)\n",
    "y_pred = logreg.predict(X_test)\n",
    "print(\"Logistic Regression: \", accuracy_score(y_test, y_pred))"
   ]
  },
  {
   "cell_type": "code",
   "execution_count": 79,
   "id": "dcba0eca",
   "metadata": {},
   "outputs": [],
   "source": [
    "pickle.dump(svc_tuned, open(\"SVCmodel.pkl\", \"wb\"))"
   ]
  },
  {
   "cell_type": "code",
   "execution_count": null,
   "id": "ce81221c",
   "metadata": {},
   "outputs": [],
   "source": []
  }
 ],
 "metadata": {
  "kernelspec": {
   "display_name": "Python 3 (ipykernel)",
   "language": "python",
   "name": "python3"
  },
  "language_info": {
   "codemirror_mode": {
    "name": "ipython",
    "version": 3
   },
   "file_extension": ".py",
   "mimetype": "text/x-python",
   "name": "python",
   "nbconvert_exporter": "python",
   "pygments_lexer": "ipython3",
   "version": "3.8.16"
  }
 },
 "nbformat": 4,
 "nbformat_minor": 5
}
